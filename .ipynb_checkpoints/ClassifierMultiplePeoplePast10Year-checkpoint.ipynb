{
 "cells": [
  {
   "cell_type": "code",
   "execution_count": 1,
   "metadata": {},
   "outputs": [],
   "source": [
    "import pandas as pd\n",
    "import numpy as np\n",
    "import matplotlib.pyplot as plt\n",
    "import seaborn as sns\n",
    "from sklearn.feature_extraction.text import TfidfVectorizer, CountVectorizer\n",
    "from sklearn.naive_bayes import MultinomialNB\n",
    "from sklearn.model_selection import train_test_split\n",
    "from sklearn.metrics import (confusion_matrix, \n",
    "                             f1_score, \n",
    "                             precision_score, \n",
    "                             recall_score, \n",
    "                             roc_auc_score, \n",
    "                             roc_curve, \n",
    "                             accuracy_score)\n",
    "from sklearn.ensemble import RandomForestClassifier, AdaBoostClassifier\n",
    "from sklearn.model_selection import GridSearchCV\n",
    "from nltk import wordpunct_tokenize, word_tokenize, sent_tokenize\n",
    "from nltk.stem import PorterStemmer\n",
    "from nltk.stem import WordNetLemmatizer\n",
    "from nltk.corpus import stopwords\n",
    "\n",
    "\n",
    "sw = ['i', 'me', 'my', 'myself', 'we', 'our', 'ours', 'ourselves', 'you', \"you're\", \"you've\", \"you'll\", \"you'd\", 'your', 'yours', 'yourself', 'yourselves', 'he', 'him', 'his', 'himself', 'she', \"she's\", 'her', 'hers', 'herself', 'it', \"it's\", 'its', 'itself', 'they', 'them', 'their', 'theirs', 'themselves', 'what', 'which', 'who', 'whom', 'this', 'that', \"that'll\", 'these', 'those', 'am', 'is', 'are', 'was', 'were', 'be', 'been', 'being', 'have', 'has', 'had', 'having', 'do', 'does', 'did', 'doing', 'a', 'an', 'the', 'and', 'but', 'if', 'or', 'because', 'as', 'until', 'while', 'of', 'at', 'by', 'for', 'with', 'about', 'against', 'between', 'into', 'through', 'during', 'before', 'after', 'above', 'below', 'to', 'from', 'up', 'down', 'in', 'out', 'on', 'off', 'over', 'under', 'again', 'further', 'then', 'once', 'here', 'there', 'when', 'where', 'why', 'how', 'all', 'any', 'both', 'each', 'few', 'more', 'most', 'other', 'some', 'such', 'no', 'nor', 'not', 'only', 'own', 'same', 'so', 'than', 'too', 'very', 's', 't', 'can', 'will', 'just', 'don', \"don't\", 'should', \"should've\", 'now', 'd', 'll', 'm', 'o', 're', 've', 'y', 'ain', 'aren', \"aren't\", 'couldn', \"couldn't\", 'didn', \"didn't\", 'doesn', \"doesn't\", 'hadn', \"hadn't\", 'hasn', \"hasn't\", 'haven', \"haven't\", 'isn', \"isn't\", 'ma', 'mightn', \"mightn't\", 'mustn', \"mustn't\", 'needn', \"needn't\", 'shan', \"shan't\", 'shouldn', \"shouldn't\", 'wasn', \"wasn't\", 'weren', \"weren't\", 'won', \"won't\", 'wouldn', \"wouldn't\"]\n",
    "\n",
    "def plot_roc_curve(fpr, tpr):\n",
    "    plt.plot(fpr, tpr, color='orange', label='ROC')\n",
    "    plt.plot([0, 1], [0, 1], color='darkblue', linestyle='--')\n",
    "    plt.xlabel('False Positive Rate')\n",
    "    plt.ylabel('True Positive Rate')\n",
    "    plt.title('Receiver Operating Characteristic (ROC) Curve')\n",
    "    plt.legend()\n",
    "    plt.show()\n"
   ]
  },
  {
   "cell_type": "code",
   "execution_count": 2,
   "metadata": {},
   "outputs": [],
   "source": [
    "gc_data = pd.read_csv('cd_2011_2020_data.csv')\n",
    "gc_data\n",
    "authors_cleaned = []\n",
    "for author in gc_data.author:\n",
    "    authors_cleaned.append(author.replace(\"\\u00A0\",\" \"))\n",
    "gc_data.author = authors_cleaned\n"
   ]
  },
  {
   "cell_type": "code",
   "execution_count": 3,
   "metadata": {},
   "outputs": [
    {
     "name": "stderr",
     "output_type": "stream",
     "text": [
      "<ipython-input-3-92797888c4b4>:5: SettingWithCopyWarning: \n",
      "A value is trying to be set on a copy of a slice from a DataFrame.\n",
      "Try using .loc[row_indexer,col_indexer] = value instead\n",
      "\n",
      "See the caveats in the documentation: https://pandas.pydata.org/pandas-docs/stable/user_guide/indexing.html#returning-a-view-versus-a-copy\n",
      "  talks[\"target\"] = targets\n"
     ]
    }
   ],
   "source": [
    "talks = gc_data[gc_data.author.str.contains('Nelson|Monson|Uchtdorf|R. Holland|Bednar', regex=True)]\n",
    "# talks = gc_data[gc_data.author.str.contains('Nelson|Monson', regex=True)]\n",
    "\n",
    "targets = talks.apply(lambda x: x[0].split(' ')[-1], axis=1)\n",
    "talks[\"target\"] = targets"
   ]
  },
  {
   "cell_type": "code",
   "execution_count": 4,
   "metadata": {},
   "outputs": [
    {
     "data": {
      "text/plain": [
       "0      False\n",
       "21     False\n",
       "24     False\n",
       "25      True\n",
       "26     False\n",
       "       ...  \n",
       "736    False\n",
       "742    False\n",
       "743    False\n",
       "750    False\n",
       "754    False\n",
       "Name: author, Length: 169, dtype: bool"
      ]
     },
     "execution_count": 4,
     "metadata": {},
     "output_type": "execute_result"
    }
   ],
   "source": [
    "talks.author.str.contains('Bednar', regex=True)"
   ]
  },
  {
   "cell_type": "code",
   "execution_count": 5,
   "metadata": {},
   "outputs": [
    {
     "name": "stderr",
     "output_type": "stream",
     "text": [
      "<ipython-input-5-5621628756dd>:12: SettingWithCopyWarning: \n",
      "A value is trying to be set on a copy of a slice from a DataFrame.\n",
      "Try using .loc[row_indexer,col_indexer] = value instead\n",
      "\n",
      "See the caveats in the documentation: https://pandas.pydata.org/pandas-docs/stable/user_guide/indexing.html#returning-a-view-versus-a-copy\n",
      "  talks[\"processed_text\"] = talks.text.apply(process_text)\n"
     ]
    }
   ],
   "source": [
    "wn = WordNetLemmatizer()\n",
    "\n",
    "\n",
    "def process_text(x):\n",
    "    x = x.lower()\n",
    "    tokens = wordpunct_tokenize(x)\n",
    "    tokens = [tok for tok in tokens if tok.isalnum()]\n",
    "    tokens = [tok for tok in tokens if tok not in sw]\n",
    "    tokens = [wn.lemmatize(tok) for tok in tokens]\n",
    "    return \" \".join(tokens)\n",
    "\n",
    "talks[\"processed_text\"] = talks.text.apply(process_text)"
   ]
  },
  {
   "cell_type": "code",
   "execution_count": 6,
   "metadata": {},
   "outputs": [],
   "source": [
    "train, test = train_test_split(talks, test_size=.3, \n",
    "                               stratify=talks.target, \n",
    "                               random_state=419)\n",
    "\n",
    "y_train = train['target']\n",
    "y_test = test['target']\n",
    "\n"
   ]
  },
  {
   "cell_type": "code",
   "execution_count": 7,
   "metadata": {},
   "outputs": [
    {
     "name": "stdout",
     "output_type": "stream",
     "text": [
      "9534\n"
     ]
    }
   ],
   "source": [
    "tfidf = TfidfVectorizer(min_df=.005, stop_words=sw)\n",
    "tfidf.fit(train['processed_text'])\n",
    "print(len(tfidf.get_feature_names()))\n",
    "\n",
    "X_train = tfidf.transform(train['processed_text'])\n",
    "X_test = tfidf.transform(test['processed_text'])\n",
    "\n",
    "nb = MultinomialNB()\n",
    "nb.fit(X_train, y_train)\n",
    "yhat = nb.predict(X_test)\n",
    "y_prob = nb.predict_proba(X_test)[:,1]\n"
   ]
  },
  {
   "cell_type": "code",
   "execution_count": 8,
   "metadata": {},
   "outputs": [
    {
     "name": "stdout",
     "output_type": "stream",
     "text": [
      "0.5490196078431373\n"
     ]
    },
    {
     "data": {
      "text/plain": [
       "array(['Uchtdorf', 'Monson', 'Uchtdorf', 'Uchtdorf', 'Monson', 'Uchtdorf',\n",
       "       'Monson', 'Monson', 'Uchtdorf', 'Monson', 'Uchtdorf', 'Uchtdorf',\n",
       "       'Uchtdorf', 'Uchtdorf', 'Nelson', 'Uchtdorf', 'Nelson', 'Uchtdorf',\n",
       "       'Uchtdorf', 'Uchtdorf', 'Uchtdorf', 'Uchtdorf', 'Uchtdorf',\n",
       "       'Uchtdorf', 'Uchtdorf', 'Monson', 'Uchtdorf', 'Uchtdorf', 'Monson',\n",
       "       'Uchtdorf', 'Uchtdorf', 'Nelson', 'Uchtdorf', 'Uchtdorf', 'Nelson',\n",
       "       'Uchtdorf', 'Uchtdorf', 'Monson', 'Uchtdorf', 'Uchtdorf', 'Monson',\n",
       "       'Nelson', 'Monson', 'Uchtdorf', 'Nelson', 'Uchtdorf', 'Uchtdorf',\n",
       "       'Uchtdorf', 'Uchtdorf', 'Uchtdorf', 'Nelson'], dtype='<U8')"
      ]
     },
     "execution_count": 8,
     "metadata": {},
     "output_type": "execute_result"
    }
   ],
   "source": [
    "print(accuracy_score(y_test, yhat))\n"
   ]
  },
  {
   "cell_type": "code",
   "execution_count": 136,
   "metadata": {},
   "outputs": [],
   "source": [
    "nelson_christmas = pd.read_csv('nelson_christmas.csv')\n",
    "nelson_christmas_vector = tfidf.transform(nelson_christmas['text'])\n"
   ]
  },
  {
   "cell_type": "code",
   "execution_count": 137,
   "metadata": {},
   "outputs": [
    {
     "data": {
      "text/plain": [
       "array(['Uchtdorf'], dtype='<U8')"
      ]
     },
     "execution_count": 137,
     "metadata": {},
     "output_type": "execute_result"
    }
   ],
   "source": [
    "# not correct: predicts uchtdorf not nelson\n",
    "nb.predict(nelson_christmas_vector)\n"
   ]
  },
  {
   "cell_type": "code",
   "execution_count": 138,
   "metadata": {},
   "outputs": [
    {
     "data": {
      "text/plain": [
       "GridSearchCV(cv=5, estimator=RandomForestClassifier(n_jobs=-1),\n",
       "             param_grid={'max_depth': [5, 10, 50, 100, None],\n",
       "                         'n_estimators': [50, 250, 500]})"
      ]
     },
     "execution_count": 138,
     "metadata": {},
     "output_type": "execute_result"
    }
   ],
   "source": [
    "def print_results(results):\n",
    "    print('BEST PARAMS: {}\\n'.format(results.best_params_))\n",
    "\n",
    "    means = results.cv_results_['mean_test_score']\n",
    "    stds = results.cv_results_['std_test_score']\n",
    "    for mean, std, params in zip(means, stds, results.cv_results_['params']):\n",
    "        print('{} (+/-{}) for {}'.format(round(mean, 3), round(std * 2, 3), params))\n",
    "\n",
    "# Random Forest\n",
    "rf = RandomForestClassifier(n_jobs=-1)\n",
    "parameters = {\n",
    "    'n_estimators': [50, 250, 500],\n",
    "    'max_depth': [5, 10, 50, 100, None]\n",
    "}\n",
    "\n",
    "cv = GridSearchCV(rf, parameters, cv=5)\n",
    "cv.fit(X_train, y_train)\n"
   ]
  },
  {
   "cell_type": "code",
   "execution_count": 139,
   "metadata": {},
   "outputs": [
    {
     "name": "stdout",
     "output_type": "stream",
     "text": [
      "BEST PARAMS: {'max_depth': 100, 'n_estimators': 500}\n",
      "\n",
      "0.677 (+/-0.182) for {'max_depth': 5, 'n_estimators': 50}\n",
      "0.669 (+/-0.069) for {'max_depth': 5, 'n_estimators': 250}\n",
      "0.694 (+/-0.075) for {'max_depth': 5, 'n_estimators': 500}\n",
      "0.662 (+/-0.084) for {'max_depth': 10, 'n_estimators': 50}\n",
      "0.728 (+/-0.168) for {'max_depth': 10, 'n_estimators': 250}\n",
      "0.72 (+/-0.141) for {'max_depth': 10, 'n_estimators': 500}\n",
      "0.678 (+/-0.042) for {'max_depth': 50, 'n_estimators': 50}\n",
      "0.729 (+/-0.087) for {'max_depth': 50, 'n_estimators': 250}\n",
      "0.746 (+/-0.122) for {'max_depth': 50, 'n_estimators': 500}\n",
      "0.678 (+/-0.125) for {'max_depth': 100, 'n_estimators': 50}\n",
      "0.72 (+/-0.05) for {'max_depth': 100, 'n_estimators': 250}\n",
      "0.788 (+/-0.077) for {'max_depth': 100, 'n_estimators': 500}\n",
      "0.702 (+/-0.131) for {'max_depth': None, 'n_estimators': 50}\n",
      "0.754 (+/-0.104) for {'max_depth': None, 'n_estimators': 250}\n",
      "0.737 (+/-0.151) for {'max_depth': None, 'n_estimators': 500}\n"
     ]
    }
   ],
   "source": [
    "print_results(cv)\n",
    "# 0.817 BEST PARAMS: {'max_depth': 50, 'n_estimators': 250}\n",
    "# 0.798 (+/-0.115) for {'max_depth': 50, 'n_estimators': 500}\n",
    "\n"
   ]
  },
  {
   "cell_type": "code",
   "execution_count": 140,
   "metadata": {},
   "outputs": [
    {
     "name": "stdout",
     "output_type": "stream",
     "text": [
      "0.803921568627451\n"
     ]
    }
   ],
   "source": [
    "rf = RandomForestClassifier(max_depth=50, n_estimators=500, n_jobs=-1)\n",
    "rf.fit(X_train, y_train)\n",
    "yhatrf = (rf.predict(X_test))\n",
    "print(accuracy_score(y_test, yhatrf))\n",
    "# 0.7555555555555555\n",
    "# 0.8222222222222222\n",
    "\n"
   ]
  },
  {
   "cell_type": "code",
   "execution_count": 141,
   "metadata": {},
   "outputs": [
    {
     "data": {
      "text/plain": [
       "array(['Nelson'], dtype=object)"
      ]
     },
     "execution_count": 141,
     "metadata": {},
     "output_type": "execute_result"
    }
   ],
   "source": [
    "rf.predict(nelson_christmas_vector)"
   ]
  },
  {
   "cell_type": "code",
   "execution_count": 142,
   "metadata": {},
   "outputs": [
    {
     "data": {
      "text/plain": [
       "GridSearchCV(cv=5, estimator=AdaBoostClassifier(),\n",
       "             param_grid={'learning_rate': [0.5, 1, 5, 10],\n",
       "                         'n_estimators': [300, 500, 700]})"
      ]
     },
     "execution_count": 142,
     "metadata": {},
     "output_type": "execute_result"
    }
   ],
   "source": [
    "ada = AdaBoostClassifier()\n",
    "parameters = {\n",
    "    'n_estimators': [300, 500, 700],\n",
    "    'learning_rate': [.5, 1, 5, 10]\n",
    "}\n",
    "cv = GridSearchCV(ada, parameters, cv=5)\n",
    "cv.fit(X_train, y_train)"
   ]
  },
  {
   "cell_type": "code",
   "execution_count": 143,
   "metadata": {},
   "outputs": [
    {
     "name": "stdout",
     "output_type": "stream",
     "text": [
      "BEST PARAMS: {'learning_rate': 0.5, 'n_estimators': 700}\n",
      "\n",
      "0.611 (+/-0.175) for {'learning_rate': 0.5, 'n_estimators': 300}\n",
      "0.636 (+/-0.225) for {'learning_rate': 0.5, 'n_estimators': 500}\n",
      "0.653 (+/-0.214) for {'learning_rate': 0.5, 'n_estimators': 700}\n",
      "0.397 (+/-0.127) for {'learning_rate': 1, 'n_estimators': 300}\n",
      "0.397 (+/-0.127) for {'learning_rate': 1, 'n_estimators': 500}\n",
      "0.397 (+/-0.127) for {'learning_rate': 1, 'n_estimators': 700}\n",
      "0.543 (+/-0.166) for {'learning_rate': 5, 'n_estimators': 300}\n",
      "0.609 (+/-0.096) for {'learning_rate': 5, 'n_estimators': 500}\n",
      "0.617 (+/-0.186) for {'learning_rate': 5, 'n_estimators': 700}\n",
      "0.288 (+/-0.251) for {'learning_rate': 10, 'n_estimators': 300}\n",
      "0.247 (+/-0.142) for {'learning_rate': 10, 'n_estimators': 500}\n",
      "0.279 (+/-0.153) for {'learning_rate': 10, 'n_estimators': 700}\n"
     ]
    }
   ],
   "source": [
    "print_results(cv)\n",
    "# 0.673 BEST PARAMS: {'learning_rate': 0.5, 'n_estimators': 700}\n"
   ]
  },
  {
   "cell_type": "code",
   "execution_count": 144,
   "metadata": {},
   "outputs": [
    {
     "name": "stdout",
     "output_type": "stream",
     "text": [
      "0.7843137254901961\n"
     ]
    }
   ],
   "source": [
    "ada = AdaBoostClassifier(learning_rate=.2, n_estimators=1000)\n",
    "ada.fit(X_train, y_train)\n",
    "yhatada = (ada.predict(X_test))\n",
    "print(accuracy_score(y_test, yhatada))\n",
    "# 0.7333333333333333\n"
   ]
  },
  {
   "cell_type": "code",
   "execution_count": 145,
   "metadata": {},
   "outputs": [
    {
     "data": {
      "text/plain": [
       "array(['Nelson'], dtype=object)"
      ]
     },
     "execution_count": 145,
     "metadata": {},
     "output_type": "execute_result"
    }
   ],
   "source": [
    "ada.predict(nelson_christmas_vector)"
   ]
  },
  {
   "cell_type": "code",
   "execution_count": null,
   "metadata": {},
   "outputs": [],
   "source": []
  }
 ],
 "metadata": {
  "kernelspec": {
   "display_name": "Python 3",
   "language": "python",
   "name": "python3"
  },
  "language_info": {
   "codemirror_mode": {
    "name": "ipython",
    "version": 3
   },
   "file_extension": ".py",
   "mimetype": "text/x-python",
   "name": "python",
   "nbconvert_exporter": "python",
   "pygments_lexer": "ipython3",
   "version": "3.8.3"
  }
 },
 "nbformat": 4,
 "nbformat_minor": 4
}
