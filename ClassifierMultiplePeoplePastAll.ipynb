{
 "cells": [
  {
   "cell_type": "code",
   "execution_count": 1,
   "metadata": {},
   "outputs": [],
   "source": [
    "import pandas as pd\n",
    "import numpy as np\n",
    "import matplotlib.pyplot as plt\n",
    "import seaborn as sns\n",
    "from sklearn.feature_extraction.text import TfidfVectorizer, CountVectorizer\n",
    "from sklearn.naive_bayes import MultinomialNB\n",
    "from sklearn.model_selection import train_test_split\n",
    "from sklearn.metrics import (confusion_matrix, \n",
    "                             f1_score, \n",
    "                             precision_score, \n",
    "                             recall_score, \n",
    "                             roc_auc_score, \n",
    "                             roc_curve, \n",
    "                             accuracy_score)\n",
    "from sklearn.ensemble import RandomForestClassifier, AdaBoostClassifier\n",
    "from sklearn.model_selection import GridSearchCV\n",
    "from nltk import wordpunct_tokenize, word_tokenize, sent_tokenize\n",
    "from nltk.stem import PorterStemmer\n",
    "from nltk.stem import WordNetLemmatizer\n",
    "from nltk.corpus import stopwords\n",
    "\n",
    "\n",
    "\\"
   ]
  },
  {
   "cell_type": "code",
   "execution_count": 3,
   "metadata": {},
   "outputs": [],
   "source": [
    "gc_data = pd.read_csv('cd_all_2020_data.csv')\n",
    "gc_data\n",
    "authors_cleaned = []\n",
    "for author in gc_data.author:\n",
    "    authors_cleaned.append(author.replace(\"\\u00A0\",\" \"))\n",
    "gc_data.author = authors_cleaned\n"
   ]
  },
  {
   "cell_type": "code",
   "execution_count": 35,
   "metadata": {},
   "outputs": [
    {
     "name": "stderr",
     "output_type": "stream",
     "text": [
      "<ipython-input-35-04d7f041467e>:5: SettingWithCopyWarning: \n",
      "A value is trying to be set on a copy of a slice from a DataFrame.\n",
      "Try using .loc[row_indexer,col_indexer] = value instead\n",
      "\n",
      "See the caveats in the documentation: https://pandas.pydata.org/pandas-docs/stable/user_guide/indexing.html#returning-a-view-versus-a-copy\n",
      "  talks[\"target\"] = targets\n"
     ]
    }
   ],
   "source": [
    "talks = gc_data[gc_data.author.str.contains('Nelson|Monson|Hinckley|Benson', regex=True)]\n",
    "# talks = gc_data[gc_data.author.str.contains('Nelson|Monson', regex=True)]\n",
    "\n",
    "targets = talks.apply(lambda x: x[0].split(' ')[-1], axis=1)\n",
    "talks[\"target\"] = targets"
   ]
  },
  {
   "cell_type": "code",
   "execution_count": 36,
   "metadata": {},
   "outputs": [
    {
     "data": {
      "text/plain": [
       "author    62\n",
       "date      62\n",
       "text      62\n",
       "dtype: int64"
      ]
     },
     "execution_count": 36,
     "metadata": {},
     "output_type": "execute_result"
    }
   ],
   "source": [
    "# talks[talks.target == \"\"].count()\n",
    "gc_data[gc_data.author.str.contains('Benson', regex=True)].count()\n"
   ]
  },
  {
   "cell_type": "code",
   "execution_count": 37,
   "metadata": {},
   "outputs": [
    {
     "name": "stderr",
     "output_type": "stream",
     "text": [
      "<ipython-input-37-5621628756dd>:12: SettingWithCopyWarning: \n",
      "A value is trying to be set on a copy of a slice from a DataFrame.\n",
      "Try using .loc[row_indexer,col_indexer] = value instead\n",
      "\n",
      "See the caveats in the documentation: https://pandas.pydata.org/pandas-docs/stable/user_guide/indexing.html#returning-a-view-versus-a-copy\n",
      "  talks[\"processed_text\"] = talks.text.apply(process_text)\n"
     ]
    }
   ],
   "source": [
    "wn = WordNetLemmatizer()\n",
    "\n",
    "\n",
    "def process_text(x):\n",
    "    x = x.lower()\n",
    "    tokens = wordpunct_tokenize(x)\n",
    "    tokens = [tok for tok in tokens if tok.isalnum()]\n",
    "    tokens = [tok for tok in tokens if tok not in sw]\n",
    "    tokens = [wn.lemmatize(tok) for tok in tokens]\n",
    "    return \" \".join(tokens)\n",
    "\n",
    "talks[\"processed_text\"] = talks.text.apply(process_text)"
   ]
  },
  {
   "cell_type": "code",
   "execution_count": 38,
   "metadata": {},
   "outputs": [],
   "source": [
    "train, test = train_test_split(talks, test_size=.3, \n",
    "                               stratify=talks.target, \n",
    "                               random_state=419)\n",
    "\n",
    "y_train = train['target']\n",
    "y_test = test['target']\n",
    "\n"
   ]
  },
  {
   "cell_type": "code",
   "execution_count": 39,
   "metadata": {},
   "outputs": [
    {
     "name": "stdout",
     "output_type": "stream",
     "text": [
      "9277\n"
     ]
    }
   ],
   "source": [
    "tfidf = TfidfVectorizer(min_df=.005, stop_words=sw)\n",
    "tfidf.fit(train['processed_text'])\n",
    "print(len(tfidf.get_feature_names()))\n",
    "\n",
    "X_train = tfidf.transform(train['processed_text'])\n",
    "X_test = tfidf.transform(test['processed_text'])\n",
    "\n",
    "nb = MultinomialNB()\n",
    "nb.fit(X_train, y_train)\n",
    "yhat = nb.predict(X_test)\n",
    "y_prob = nb.predict_proba(X_test)[:,1]\n"
   ]
  },
  {
   "cell_type": "code",
   "execution_count": 40,
   "metadata": {},
   "outputs": [
    {
     "name": "stdout",
     "output_type": "stream",
     "text": [
      "0.6777251184834123\n"
     ]
    },
    {
     "data": {
      "text/plain": [
       "array(['Monson', 'Monson', 'Hinckley', 'Monson', 'Hinckley', 'Monson',\n",
       "       'Monson', 'Hinckley', 'Monson', 'Monson', 'Hinckley', 'Hinckley',\n",
       "       'Monson', 'Hinckley', 'Monson', 'Hinckley', 'Monson', 'Hinckley',\n",
       "       'Hinckley', 'Hinckley', 'Monson', 'Monson', 'Monson', 'Monson',\n",
       "       'Monson', 'Monson', 'Monson', 'Monson', 'Monson', 'Hinckley',\n",
       "       'Monson', 'Hinckley', 'Monson', 'Monson', 'Hinckley', 'Nelson',\n",
       "       'Monson', 'Monson', 'Monson', 'Hinckley', 'Hinckley', 'Hinckley',\n",
       "       'Monson', 'Monson', 'Monson', 'Hinckley', 'Monson', 'Monson',\n",
       "       'Hinckley', 'Hinckley', 'Monson', 'Monson', 'Hinckley', 'Hinckley',\n",
       "       'Hinckley', 'Monson', 'Hinckley', 'Hinckley', 'Monson', 'Monson',\n",
       "       'Hinckley', 'Monson', 'Monson', 'Hinckley', 'Monson', 'Monson',\n",
       "       'Monson', 'Monson', 'Hinckley', 'Hinckley', 'Monson', 'Monson',\n",
       "       'Monson', 'Hinckley', 'Hinckley', 'Monson', 'Hinckley', 'Hinckley',\n",
       "       'Monson', 'Monson', 'Hinckley', 'Hinckley', 'Monson', 'Monson',\n",
       "       'Monson', 'Hinckley', 'Monson', 'Monson', 'Monson', 'Monson',\n",
       "       'Hinckley', 'Monson', 'Monson', 'Monson', 'Hinckley', 'Hinckley',\n",
       "       'Monson', 'Monson', 'Monson', 'Monson', 'Monson', 'Monson',\n",
       "       'Hinckley', 'Hinckley', 'Monson', 'Monson', 'Hinckley', 'Monson',\n",
       "       'Monson', 'Monson', 'Nelson', 'Hinckley', 'Hinckley', 'Monson',\n",
       "       'Monson', 'Monson', 'Monson', 'Monson', 'Hinckley', 'Monson',\n",
       "       'Monson', 'Hinckley', 'Monson', 'Hinckley', 'Hinckley', 'Monson',\n",
       "       'Monson', 'Monson', 'Hinckley', 'Hinckley', 'Hinckley', 'Hinckley',\n",
       "       'Monson', 'Monson', 'Monson', 'Monson', 'Hinckley', 'Monson',\n",
       "       'Hinckley', 'Monson', 'Monson', 'Monson', 'Monson', 'Monson',\n",
       "       'Monson', 'Hinckley', 'Monson', 'Monson', 'Monson', 'Hinckley',\n",
       "       'Monson', 'Hinckley', 'Monson', 'Monson', 'Hinckley', 'Monson',\n",
       "       'Hinckley', 'Monson', 'Hinckley', 'Monson', 'Monson', 'Hinckley',\n",
       "       'Hinckley', 'Monson', 'Hinckley', 'Monson', 'Monson', 'Monson',\n",
       "       'Monson', 'Hinckley', 'Monson', 'Monson', 'Monson', 'Hinckley',\n",
       "       'Monson', 'Hinckley', 'Monson', 'Monson', 'Hinckley', 'Monson',\n",
       "       'Monson', 'Hinckley', 'Monson', 'Monson', 'Monson', 'Monson',\n",
       "       'Hinckley', 'Monson', 'Monson', 'Monson', 'Monson', 'Monson',\n",
       "       'Monson', 'Hinckley', 'Monson', 'Monson', 'Monson', 'Hinckley',\n",
       "       'Hinckley', 'Monson', 'Hinckley', 'Monson', 'Monson', 'Monson',\n",
       "       'Monson', 'Hinckley', 'Monson', 'Hinckley', 'Monson', 'Monson',\n",
       "       'Monson'], dtype='<U8')"
      ]
     },
     "execution_count": 40,
     "metadata": {},
     "output_type": "execute_result"
    }
   ],
   "source": [
    "print(accuracy_score(y_test, yhat))\n",
    "yhat"
   ]
  },
  {
   "cell_type": "code",
   "execution_count": 41,
   "metadata": {},
   "outputs": [],
   "source": [
    "nelson_christmas = pd.read_csv('nelson_christmas.csv')\n",
    "nelson_christmas_vector = tfidf.transform(nelson_christmas['text'])\n"
   ]
  },
  {
   "cell_type": "code",
   "execution_count": 42,
   "metadata": {},
   "outputs": [
    {
     "data": {
      "text/plain": [
       "array(['Monson'], dtype='<U8')"
      ]
     },
     "execution_count": 42,
     "metadata": {},
     "output_type": "execute_result"
    }
   ],
   "source": [
    "nb.predict(nelson_christmas_vector)\n"
   ]
  },
  {
   "cell_type": "code",
   "execution_count": 43,
   "metadata": {},
   "outputs": [
    {
     "data": {
      "text/plain": [
       "GridSearchCV(cv=5, estimator=RandomForestClassifier(n_jobs=-1),\n",
       "             param_grid={'max_depth': [5, 10, 50, 100, None],\n",
       "                         'n_estimators': [50, 250, 500]})"
      ]
     },
     "execution_count": 43,
     "metadata": {},
     "output_type": "execute_result"
    }
   ],
   "source": [
    "def print_results(results):\n",
    "    print('BEST PARAMS: {}\\n'.format(results.best_params_))\n",
    "\n",
    "    means = results.cv_results_['mean_test_score']\n",
    "    stds = results.cv_results_['std_test_score']\n",
    "    for mean, std, params in zip(means, stds, results.cv_results_['params']):\n",
    "        print('{} (+/-{}) for {}'.format(round(mean, 3), round(std * 2, 3), params))\n",
    "\n",
    "# Random Forest\n",
    "rf = RandomForestClassifier(n_jobs=-1)\n",
    "parameters = {\n",
    "    'n_estimators': [50, 250, 500],\n",
    "    'max_depth': [5, 10, 50, 100, None]\n",
    "}\n",
    "\n",
    "cv = GridSearchCV(rf, parameters, cv=5)\n",
    "cv.fit(X_train, y_train)\n"
   ]
  },
  {
   "cell_type": "code",
   "execution_count": 44,
   "metadata": {},
   "outputs": [
    {
     "name": "stdout",
     "output_type": "stream",
     "text": [
      "BEST PARAMS: {'max_depth': None, 'n_estimators': 500}\n",
      "\n",
      "0.748 (+/-0.083) for {'max_depth': 5, 'n_estimators': 50}\n",
      "0.746 (+/-0.044) for {'max_depth': 5, 'n_estimators': 250}\n",
      "0.748 (+/-0.046) for {'max_depth': 5, 'n_estimators': 500}\n",
      "0.791 (+/-0.058) for {'max_depth': 10, 'n_estimators': 50}\n",
      "0.817 (+/-0.046) for {'max_depth': 10, 'n_estimators': 250}\n",
      "0.815 (+/-0.052) for {'max_depth': 10, 'n_estimators': 500}\n",
      "0.805 (+/-0.079) for {'max_depth': 50, 'n_estimators': 50}\n",
      "0.839 (+/-0.038) for {'max_depth': 50, 'n_estimators': 250}\n",
      "0.839 (+/-0.036) for {'max_depth': 50, 'n_estimators': 500}\n",
      "0.825 (+/-0.045) for {'max_depth': 100, 'n_estimators': 50}\n",
      "0.833 (+/-0.029) for {'max_depth': 100, 'n_estimators': 250}\n",
      "0.835 (+/-0.054) for {'max_depth': 100, 'n_estimators': 500}\n",
      "0.825 (+/-0.028) for {'max_depth': None, 'n_estimators': 50}\n",
      "0.825 (+/-0.047) for {'max_depth': None, 'n_estimators': 250}\n",
      "0.839 (+/-0.046) for {'max_depth': None, 'n_estimators': 500}\n"
     ]
    }
   ],
   "source": [
    "print_results(cv)\n",
    "# 0.817 BEST PARAMS: {'max_depth': 50, 'n_estimators': 250}\n",
    "# 0.798 (+/-0.115) for {'max_depth': 50, 'n_estimators': 500}\n",
    "\n"
   ]
  },
  {
   "cell_type": "code",
   "execution_count": 51,
   "metadata": {},
   "outputs": [
    {
     "name": "stdout",
     "output_type": "stream",
     "text": [
      "0.8483412322274881\n"
     ]
    }
   ],
   "source": [
    "rf = RandomForestClassifier(max_depth=None, n_estimators=500, n_jobs=-1)\n",
    "rf.fit(X_train, y_train)\n",
    "yhatrf = (rf.predict(X_test))\n",
    "print(accuracy_score(y_test, yhatrf))\n",
    "# 0.7555555555555555\n",
    "# 0.8222222222222222\n",
    "\n"
   ]
  },
  {
   "cell_type": "code",
   "execution_count": 46,
   "metadata": {},
   "outputs": [
    {
     "data": {
      "text/plain": [
       "array(['Nelson'], dtype=object)"
      ]
     },
     "execution_count": 46,
     "metadata": {},
     "output_type": "execute_result"
    }
   ],
   "source": [
    "rf.predict(nelson_christmas_vector)"
   ]
  },
  {
   "cell_type": "code",
   "execution_count": 47,
   "metadata": {},
   "outputs": [
    {
     "data": {
      "text/plain": [
       "GridSearchCV(cv=5, estimator=AdaBoostClassifier(),\n",
       "             param_grid={'learning_rate': [0.5, 1, 5, 10],\n",
       "                         'n_estimators': [300, 500, 700]})"
      ]
     },
     "execution_count": 47,
     "metadata": {},
     "output_type": "execute_result"
    }
   ],
   "source": [
    "ada = AdaBoostClassifier()\n",
    "parameters = {\n",
    "    'n_estimators': [300, 500, 700],\n",
    "    'learning_rate': [.5, 1, 5, 10]\n",
    "}\n",
    "cv = GridSearchCV(ada, parameters, cv=5)\n",
    "cv.fit(X_train, y_train)"
   ]
  },
  {
   "cell_type": "code",
   "execution_count": 48,
   "metadata": {},
   "outputs": [
    {
     "name": "stdout",
     "output_type": "stream",
     "text": [
      "BEST PARAMS: {'learning_rate': 0.5, 'n_estimators': 700}\n",
      "\n",
      "0.705 (+/-0.099) for {'learning_rate': 0.5, 'n_estimators': 300}\n",
      "0.73 (+/-0.089) for {'learning_rate': 0.5, 'n_estimators': 500}\n",
      "0.75 (+/-0.052) for {'learning_rate': 0.5, 'n_estimators': 700}\n",
      "0.703 (+/-0.095) for {'learning_rate': 1, 'n_estimators': 300}\n",
      "0.732 (+/-0.131) for {'learning_rate': 1, 'n_estimators': 500}\n",
      "0.742 (+/-0.076) for {'learning_rate': 1, 'n_estimators': 700}\n",
      "0.39 (+/-0.117) for {'learning_rate': 5, 'n_estimators': 300}\n",
      "0.421 (+/-0.153) for {'learning_rate': 5, 'n_estimators': 500}\n",
      "0.475 (+/-0.107) for {'learning_rate': 5, 'n_estimators': 700}\n",
      "0.159 (+/-0.11) for {'learning_rate': 10, 'n_estimators': 300}\n",
      "0.175 (+/-0.071) for {'learning_rate': 10, 'n_estimators': 500}\n",
      "0.171 (+/-0.078) for {'learning_rate': 10, 'n_estimators': 700}\n"
     ]
    }
   ],
   "source": [
    "print_results(cv)\n",
    "# 0.673 BEST PARAMS: {'learning_rate': 0.5, 'n_estimators': 700}\n"
   ]
  },
  {
   "cell_type": "code",
   "execution_count": 49,
   "metadata": {},
   "outputs": [
    {
     "name": "stdout",
     "output_type": "stream",
     "text": [
      "0.8483412322274881\n"
     ]
    }
   ],
   "source": [
    "ada = AdaBoostClassifier(learning_rate=.2, n_estimators=1000)\n",
    "ada.fit(X_train, y_train)\n",
    "yhatada = (ada.predict(X_test))\n",
    "print(accuracy_score(y_test, yhatada))\n",
    "# 0.7333333333333333\n"
   ]
  },
  {
   "cell_type": "code",
   "execution_count": 52,
   "metadata": {},
   "outputs": [
    {
     "data": {
      "text/plain": [
       "array(['Monson'], dtype=object)"
      ]
     },
     "execution_count": 52,
     "metadata": {},
     "output_type": "execute_result"
    }
   ],
   "source": [
    "ada.predict(nelson_christmas_vector)"
   ]
  },
  {
   "cell_type": "code",
   "execution_count": 54,
   "metadata": {},
   "outputs": [],
   "source": [
    "import numpy as np\n",
    "\n",
    "import tensorflow as tf\n",
    "import matplotlib.pyplot as plt\n",
    "\n",
    "def plot_graphs(history, metric):\n",
    "  plt.plot(history.history[metric])\n",
    "  plt.plot(history.history['val_'+metric], '')\n",
    "  plt.xlabel(\"Epochs\")\n",
    "  plt.ylabel(metric)\n",
    "  plt.legend([metric, 'val_'+metric])\n"
   ]
  },
  {
   "cell_type": "code",
   "execution_count": null,
   "metadata": {},
   "outputs": [],
   "source": [
    "\n"
   ]
  }
 ],
 "metadata": {
  "kernelspec": {
   "display_name": "Python 3",
   "language": "python",
   "name": "python3"
  },
  "language_info": {
   "codemirror_mode": {
    "name": "ipython",
    "version": 3
   },
   "file_extension": ".py",
   "mimetype": "text/x-python",
   "name": "python",
   "nbconvert_exporter": "python",
   "pygments_lexer": "ipython3",
   "version": "3.8.3"
  }
 },
 "nbformat": 4,
 "nbformat_minor": 4
}
