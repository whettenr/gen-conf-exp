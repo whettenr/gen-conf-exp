{
 "cells": [
  {
   "cell_type": "code",
   "execution_count": 170,
   "metadata": {},
   "outputs": [],
   "source": [
    "import pandas as pd\n",
    "import numpy as np\n",
    "import matplotlib.pyplot as plt\n",
    "import seaborn as sns\n",
    "import nltk\n",
    "from sklearn.feature_extraction.text import TfidfVectorizer, CountVectorizer\n",
    "from sklearn.naive_bayes import MultinomialNB\n",
    "from sklearn.model_selection import train_test_split\n",
    "from sklearn.metrics import (confusion_matrix, \n",
    "                             f1_score, \n",
    "                             precision_score, \n",
    "                             recall_score, \n",
    "                             roc_auc_score, \n",
    "                             roc_curve, \n",
    "                             accuracy_score)\n",
    "from sklearn.ensemble import RandomForestClassifier, AdaBoostClassifier\n",
    "from sklearn.model_selection import GridSearchCV\n",
    "from nltk import wordpunct_tokenize, word_tokenize, sent_tokenize\n",
    "from nltk.stem import WordNetLemmatizer\n",
    "from collections import Counter\n",
    "\n",
    "\n",
    "# list of words to be used as stop words\n",
    "sw = ['u', 'i', 'me', 'my', 'myself', 'we', 'our', 'ours', 'ourselves', 'you', \"you're\", \"you've\", \"you'll\", \"you'd\", 'your', 'yours', 'yourself', 'yourselves', 'he', 'him', 'his', 'himself', 'she', \"she's\", 'her', 'hers', 'herself', 'it', \"it's\", 'its', 'itself', 'they', 'them', 'their', 'theirs', 'themselves', 'what', 'which', 'who', 'whom', 'this', 'that', \"that'll\", 'these', 'those', 'am', 'is', 'are', 'was', 'were', 'be', 'been', 'being', 'have', 'has', 'had', 'having', 'do', 'does', 'did', 'doing', 'a', 'an', 'the', 'and', 'but', 'if', 'or', 'because', 'as', 'until', 'while', 'of', 'at', 'by', 'for', 'with', 'about', 'against', 'between', 'into', 'through', 'during', 'before', 'after', 'above', 'below', 'to', 'from', 'up', 'down', 'in', 'out', 'on', 'off', 'over', 'under', 'again', 'further', 'then', 'once', 'here', 'there', 'when', 'where', 'why', 'how', 'all', 'any', 'both', 'each', 'few', 'more', 'most', 'other', 'some', 'such', 'no', 'nor', 'not', 'only', 'own', 'same', 'so', 'than', 'too', 'very', 's', 't', 'can', 'will', 'just', 'don', \"don't\", 'should', \"should've\", 'now', 'd', 'll', 'm', 'o', 're', 've', 'y', 'ain', 'aren', \"aren't\", 'couldn', \"couldn't\", 'didn', \"didn't\", 'doesn', \"doesn't\", 'hadn', \"hadn't\", 'hasn', \"hasn't\", 'haven', \"haven't\", 'isn', \"isn't\", 'ma', 'mightn', \"mightn't\", 'mustn', \"mustn't\", 'needn', \"needn't\", 'shan', \"shan't\", 'shouldn', \"shouldn't\", 'wasn', \"wasn't\", 'weren', \"weren't\", 'won', \"won't\", 'wouldn', \"wouldn't\"]\n",
    "\n",
    "def plot_roc_curve(fpr, tpr):\n",
    "    plt.plot(fpr, tpr, color='orange', label='ROC')\n",
    "    plt.plot([0, 1], [0, 1], color='darkblue', linestyle='--')\n",
    "    plt.xlabel('False Positive Rate')\n",
    "    plt.ylabel('True Positive Rate')\n",
    "    plt.title('Receiver Operating Characteristic (ROC) Curve')\n",
    "    plt.legend()\n",
    "    plt.show()\n"
   ]
  },
  {
   "cell_type": "code",
   "execution_count": 171,
   "metadata": {
    "scrolled": true
   },
   "outputs": [
    {
     "name": "stdout",
     "output_type": "stream",
     "text": [
      "(755, 3)\n"
     ]
    },
    {
     "data": {
      "text/html": [
       "<div>\n",
       "<style scoped>\n",
       "    .dataframe tbody tr th:only-of-type {\n",
       "        vertical-align: middle;\n",
       "    }\n",
       "\n",
       "    .dataframe tbody tr th {\n",
       "        vertical-align: top;\n",
       "    }\n",
       "\n",
       "    .dataframe thead th {\n",
       "        text-align: right;\n",
       "    }\n",
       "</style>\n",
       "<table border=\"1\" class=\"dataframe\">\n",
       "  <thead>\n",
       "    <tr style=\"text-align: right;\">\n",
       "      <th></th>\n",
       "      <th>author</th>\n",
       "      <th>date</th>\n",
       "      <th>text</th>\n",
       "    </tr>\n",
       "  </thead>\n",
       "  <tbody>\n",
       "    <tr>\n",
       "      <th>0</th>\n",
       "      <td>President Russell M. Nelson</td>\n",
       "      <td>2020/04</td>\n",
       "      <td>My beloved brothers and sisters, as we welcome...</td>\n",
       "    </tr>\n",
       "    <tr>\n",
       "      <th>1</th>\n",
       "      <td>President M. Russell Ballard</td>\n",
       "      <td>2020/04</td>\n",
       "      <td>Thank you very much, President, for such a won...</td>\n",
       "    </tr>\n",
       "    <tr>\n",
       "      <th>2</th>\n",
       "      <td>Elder James R. Rasband</td>\n",
       "      <td>2020/04</td>\n",
       "      <td>The Book of Mormon Teaches the Doctrine of Chr...</td>\n",
       "    </tr>\n",
       "    <tr>\n",
       "      <th>3</th>\n",
       "      <td>Joy D. Jones</td>\n",
       "      <td>2020/04</td>\n",
       "      <td>I’m grateful to focus my remarks today on wome...</td>\n",
       "    </tr>\n",
       "    <tr>\n",
       "      <th>4</th>\n",
       "      <td>Elder Neil L. Andersen</td>\n",
       "      <td>2020/04</td>\n",
       "      <td>Eighteen years after the First Vision, the Pro...</td>\n",
       "    </tr>\n",
       "  </tbody>\n",
       "</table>\n",
       "</div>"
      ],
      "text/plain": [
       "                         author     date  \\\n",
       "0   President Russell M. Nelson  2020/04   \n",
       "1  President M. Russell Ballard  2020/04   \n",
       "2        Elder James R. Rasband  2020/04   \n",
       "3                  Joy D. Jones  2020/04   \n",
       "4        Elder Neil L. Andersen  2020/04   \n",
       "\n",
       "                                                text  \n",
       "0  My beloved brothers and sisters, as we welcome...  \n",
       "1  Thank you very much, President, for such a won...  \n",
       "2  The Book of Mormon Teaches the Doctrine of Chr...  \n",
       "3  I’m grateful to focus my remarks today on wome...  \n",
       "4  Eighteen years after the First Vision, the Pro...  "
      ]
     },
     "execution_count": 171,
     "metadata": {},
     "output_type": "execute_result"
    }
   ],
   "source": [
    "# import data, look at shape and first few rows\n",
    "gc_data = pd.read_csv('cd_2011_2020_data.csv')\n",
    "print(gc_data.shape)\n",
    "gc_data.head()"
   ]
  },
  {
   "cell_type": "code",
   "execution_count": 172,
   "metadata": {},
   "outputs": [
    {
     "name": "stderr",
     "output_type": "stream",
     "text": [
      "<ipython-input-172-3b067105fc4e>:4: SettingWithCopyWarning: \n",
      "A value is trying to be set on a copy of a slice from a DataFrame.\n",
      "Try using .loc[row_indexer,col_indexer] = value instead\n",
      "\n",
      "See the caveats in the documentation: https://pandas.pydata.org/pandas-docs/stable/user_guide/indexing.html#returning-a-view-versus-a-copy\n",
      "  nelson_monson_talks[\"target\"] = nelson_monson_talks.author.str.contains('Nelson', regex=True).astype(int)\n"
     ]
    }
   ],
   "source": [
    "# subset data to only have talks by Nelson and Monson\n",
    "nelson_monson_talks = gc_data[gc_data.author.str.contains('Nelson|Monson', regex=True)]\n",
    "# create target column\n",
    "nelson_monson_talks[\"target\"] = nelson_monson_talks.author.str.contains('Nelson', regex=True).astype(int)\n"
   ]
  },
  {
   "cell_type": "code",
   "execution_count": 165,
   "metadata": {},
   "outputs": [
    {
     "name": "stdout",
     "output_type": "stream",
     "text": [
      "(82, 4)\n"
     ]
    },
    {
     "data": {
      "text/html": [
       "<div>\n",
       "<style scoped>\n",
       "    .dataframe tbody tr th:only-of-type {\n",
       "        vertical-align: middle;\n",
       "    }\n",
       "\n",
       "    .dataframe tbody tr th {\n",
       "        vertical-align: top;\n",
       "    }\n",
       "\n",
       "    .dataframe thead th {\n",
       "        text-align: right;\n",
       "    }\n",
       "</style>\n",
       "<table border=\"1\" class=\"dataframe\">\n",
       "  <thead>\n",
       "    <tr style=\"text-align: right;\">\n",
       "      <th></th>\n",
       "      <th>author</th>\n",
       "      <th>date</th>\n",
       "      <th>text</th>\n",
       "      <th>target</th>\n",
       "    </tr>\n",
       "  </thead>\n",
       "  <tbody>\n",
       "    <tr>\n",
       "      <th>0</th>\n",
       "      <td>President Russell M. Nelson</td>\n",
       "      <td>2020/04</td>\n",
       "      <td>My beloved brothers and sisters, as we welcome...</td>\n",
       "      <td>1</td>\n",
       "    </tr>\n",
       "    <tr>\n",
       "      <th>21</th>\n",
       "      <td>President Russell M. Nelson</td>\n",
       "      <td>2020/04</td>\n",
       "      <td>What a unique and wonderful session this has b...</td>\n",
       "      <td>1</td>\n",
       "    </tr>\n",
       "    <tr>\n",
       "      <th>26</th>\n",
       "      <td>President Russell M. Nelson</td>\n",
       "      <td>2020/04</td>\n",
       "      <td>My dear brothers and sisters, how thankful I a...</td>\n",
       "      <td>1</td>\n",
       "    </tr>\n",
       "    <tr>\n",
       "      <th>27</th>\n",
       "      <td>Presented by President Russell M. Nelson</td>\n",
       "      <td>2020/04</td>\n",
       "      <td>Now, my dear brothers and sisters, as we comme...</td>\n",
       "      <td>1</td>\n",
       "    </tr>\n",
       "    <tr>\n",
       "      <th>34</th>\n",
       "      <td>President Russell M. Nelson</td>\n",
       "      <td>2020/04</td>\n",
       "      <td>My beloved brothers and sisters, as we come to...</td>\n",
       "      <td>1</td>\n",
       "    </tr>\n",
       "  </tbody>\n",
       "</table>\n",
       "</div>"
      ],
      "text/plain": [
       "                                      author     date  \\\n",
       "0                President Russell M. Nelson  2020/04   \n",
       "21               President Russell M. Nelson  2020/04   \n",
       "26               President Russell M. Nelson  2020/04   \n",
       "27  Presented by President Russell M. Nelson  2020/04   \n",
       "34               President Russell M. Nelson  2020/04   \n",
       "\n",
       "                                                 text  target  \n",
       "0   My beloved brothers and sisters, as we welcome...       1  \n",
       "21  What a unique and wonderful session this has b...       1  \n",
       "26  My dear brothers and sisters, how thankful I a...       1  \n",
       "27  Now, my dear brothers and sisters, as we comme...       1  \n",
       "34  My beloved brothers and sisters, as we come to...       1  "
      ]
     },
     "execution_count": 165,
     "metadata": {},
     "output_type": "execute_result"
    }
   ],
   "source": [
    "print(nelson_monson_talks.shape)\n",
    "nelson_monson_talks.head()\n"
   ]
  },
  {
   "cell_type": "code",
   "execution_count": 105,
   "metadata": {},
   "outputs": [],
   "source": [
    "train, test = train_test_split(nelson_monson_talks, test_size=.3, \n",
    "                               stratify=nelson_monson_talks.target, \n",
    "                               random_state=419)\n",
    "\n",
    "y_train = train['target']\n",
    "y_test = test['target']\n",
    "\n"
   ]
  },
  {
   "cell_type": "code",
   "execution_count": 106,
   "metadata": {},
   "outputs": [
    {
     "name": "stdout",
     "output_type": "stream",
     "text": [
      "6375\n"
     ]
    }
   ],
   "source": [
    "tfidf = TfidfVectorizer(min_df=.005, stop_words=sw)\n",
    "tfidf.fit(train['text'])\n",
    "print(len(tfidf.get_feature_names()))\n",
    "\n",
    "X_train = tfidf.transform(train['text'])\n",
    "X_test = tfidf.transform(test['text'])\n",
    "\n",
    "nb = MultinomialNB()\n",
    "nb.fit(X_train, y_train)\n",
    "yhat = nb.predict(X_test)\n",
    "y_prob = nb.predict_proba(X_test)[:,1]\n"
   ]
  },
  {
   "cell_type": "code",
   "execution_count": 107,
   "metadata": {},
   "outputs": [
    {
     "name": "stdout",
     "output_type": "stream",
     "text": [
      "0.96\n",
      "0.9565217391304348\n"
     ]
    }
   ],
   "source": [
    "print(accuracy_score(y_test, yhat))\n",
    "print(f1_score(y_test, yhat))"
   ]
  },
  {
   "cell_type": "code",
   "execution_count": 127,
   "metadata": {},
   "outputs": [
    {
     "data": {
      "text/plain": [
       "array([[13,  0],\n",
       "       [ 1, 11]])"
      ]
     },
     "execution_count": 127,
     "metadata": {},
     "output_type": "execute_result"
    }
   ],
   "source": [
    "confusion_matrix(y_test, yhat)"
   ]
  },
  {
   "cell_type": "code",
   "execution_count": 108,
   "metadata": {},
   "outputs": [
    {
     "data": {
      "text/html": [
       "<div>\n",
       "<style scoped>\n",
       "    .dataframe tbody tr th:only-of-type {\n",
       "        vertical-align: middle;\n",
       "    }\n",
       "\n",
       "    .dataframe tbody tr th {\n",
       "        vertical-align: top;\n",
       "    }\n",
       "\n",
       "    .dataframe thead th {\n",
       "        text-align: right;\n",
       "    }\n",
       "</style>\n",
       "<table border=\"1\" class=\"dataframe\">\n",
       "  <thead>\n",
       "    <tr style=\"text-align: right;\">\n",
       "      <th></th>\n",
       "      <th>author</th>\n",
       "      <th>data</th>\n",
       "      <th>text</th>\n",
       "    </tr>\n",
       "  </thead>\n",
       "  <tbody>\n",
       "    <tr>\n",
       "      <th>0</th>\n",
       "      <td>Russell M. Nelson</td>\n",
       "      <td>2018/12</td>\n",
       "      <td>My beloved brothers and sisters, what a treasu...</td>\n",
       "    </tr>\n",
       "  </tbody>\n",
       "</table>\n",
       "</div>"
      ],
      "text/plain": [
       "              author     data  \\\n",
       "0  Russell M. Nelson  2018/12   \n",
       "\n",
       "                                                text  \n",
       "0  My beloved brothers and sisters, what a treasu...  "
      ]
     },
     "execution_count": 108,
     "metadata": {},
     "output_type": "execute_result"
    }
   ],
   "source": [
    "nelson_christmas = pd.read_csv('nelson_christmas.csv')\n",
    "nelson_christmas\n"
   ]
  },
  {
   "cell_type": "code",
   "execution_count": 110,
   "metadata": {},
   "outputs": [
    {
     "data": {
      "text/plain": [
       "array([1])"
      ]
     },
     "execution_count": 110,
     "metadata": {},
     "output_type": "execute_result"
    }
   ],
   "source": [
    "nb.predict(tfidf.transform(nelson_christmas['text']))\n",
    "nelson_christmas_vectorized = tfidf.transform(nelson_christmas['text'])\n",
    "nb.predict(nelson_christmas_vectorized)\n",
    "# predicts 1 which is Nelson. Predicts correctly\n"
   ]
  },
  {
   "cell_type": "code",
   "execution_count": 85,
   "metadata": {},
   "outputs": [
    {
     "data": {
      "text/plain": [
       "GridSearchCV(cv=5, estimator=RandomForestClassifier(n_jobs=-1),\n",
       "             param_grid={'max_depth': [5, 10, 50, 100, None],\n",
       "                         'n_estimators': [50, 250, 500]})"
      ]
     },
     "execution_count": 85,
     "metadata": {},
     "output_type": "execute_result"
    }
   ],
   "source": [
    "def print_results(results):\n",
    "    print('BEST PARAMS: {}\\n'.format(results.best_params_))\n",
    "\n",
    "    means = results.cv_results_['mean_test_score']\n",
    "    stds = results.cv_results_['std_test_score']\n",
    "    for mean, std, params in zip(means, stds, results.cv_results_['params']):\n",
    "        print('{} (+/-{}) for {}'.format(round(mean, 3), round(std * 2, 3), params))\n",
    "\n",
    "# Random Forest\n",
    "rf = RandomForestClassifier(n_jobs=-1)\n",
    "parameters = {\n",
    "    'n_estimators': [50, 250, 500],\n",
    "    'max_depth': [5, 10, 50, 100, None]\n",
    "}\n",
    "\n",
    "cv = GridSearchCV(rf, parameters, cv=5)\n",
    "cv.fit(X_train, y_train)\n"
   ]
  },
  {
   "cell_type": "code",
   "execution_count": 86,
   "metadata": {},
   "outputs": [
    {
     "name": "stdout",
     "output_type": "stream",
     "text": [
      "BEST PARAMS: {'max_depth': 100, 'n_estimators': 500}\n",
      "\n",
      "0.894 (+/-0.268) for {'max_depth': 5, 'n_estimators': 50}\n",
      "0.897 (+/-0.27) for {'max_depth': 5, 'n_estimators': 250}\n",
      "0.914 (+/-0.156) for {'max_depth': 5, 'n_estimators': 500}\n",
      "0.844 (+/-0.223) for {'max_depth': 10, 'n_estimators': 50}\n",
      "0.897 (+/-0.169) for {'max_depth': 10, 'n_estimators': 250}\n",
      "0.895 (+/-0.256) for {'max_depth': 10, 'n_estimators': 500}\n",
      "0.879 (+/-0.213) for {'max_depth': 50, 'n_estimators': 50}\n",
      "0.897 (+/-0.169) for {'max_depth': 50, 'n_estimators': 250}\n",
      "0.914 (+/-0.216) for {'max_depth': 50, 'n_estimators': 500}\n",
      "0.844 (+/-0.192) for {'max_depth': 100, 'n_estimators': 50}\n",
      "0.929 (+/-0.212) for {'max_depth': 100, 'n_estimators': 250}\n",
      "0.93 (+/-0.171) for {'max_depth': 100, 'n_estimators': 500}\n",
      "0.774 (+/-0.223) for {'max_depth': None, 'n_estimators': 50}\n",
      "0.897 (+/-0.199) for {'max_depth': None, 'n_estimators': 250}\n",
      "0.879 (+/-0.237) for {'max_depth': None, 'n_estimators': 500}\n"
     ]
    }
   ],
   "source": [
    "print_results(cv)\n"
   ]
  },
  {
   "cell_type": "code",
   "execution_count": 124,
   "metadata": {},
   "outputs": [
    {
     "name": "stdout",
     "output_type": "stream",
     "text": [
      "0.92\n",
      "0.9090909090909091\n"
     ]
    }
   ],
   "source": [
    "rf = RandomForestClassifier(max_depth=100, n_estimators=500, n_jobs=-1)\n",
    "rf.fit(X_train, y_train)\n",
    "yhatrf = (rf.predict(X_test))\n",
    "print(accuracy_score(y_test, yhatrf))\n",
    "print(f1_score(y_test, yhatrf))"
   ]
  },
  {
   "cell_type": "code",
   "execution_count": 129,
   "metadata": {},
   "outputs": [
    {
     "data": {
      "text/plain": [
       "array([[13,  0],\n",
       "       [ 2, 10]])"
      ]
     },
     "execution_count": 129,
     "metadata": {},
     "output_type": "execute_result"
    }
   ],
   "source": [
    "confusion_matrix(y_test, yhatrf)\n"
   ]
  },
  {
   "cell_type": "code",
   "execution_count": 122,
   "metadata": {},
   "outputs": [
    {
     "data": {
      "text/plain": [
       "array([1])"
      ]
     },
     "execution_count": 122,
     "metadata": {},
     "output_type": "execute_result"
    }
   ],
   "source": [
    "rf.predict(nelson_christmas_vectorized)"
   ]
  },
  {
   "cell_type": "code",
   "execution_count": 113,
   "metadata": {},
   "outputs": [
    {
     "data": {
      "text/plain": [
       "GridSearchCV(cv=5, estimator=AdaBoostClassifier(),\n",
       "             param_grid={'learning_rate': [0.5, 1, 10],\n",
       "                         'n_estimators': [50, 300, 500]})"
      ]
     },
     "execution_count": 113,
     "metadata": {},
     "output_type": "execute_result"
    }
   ],
   "source": [
    "ada = AdaBoostClassifier()\n",
    "parameters = {\n",
    "    'n_estimators': [50, 300, 500],\n",
    "    'learning_rate': [.5, 1,10]\n",
    "}\n",
    "cv = GridSearchCV(ada, parameters, cv=5)\n",
    "cv.fit(X_train, y_train)"
   ]
  },
  {
   "cell_type": "code",
   "execution_count": 114,
   "metadata": {},
   "outputs": [
    {
     "name": "stdout",
     "output_type": "stream",
     "text": [
      "BEST PARAMS: {'learning_rate': 1, 'n_estimators': 500}\n",
      "\n",
      "0.824 (+/-0.2) for {'learning_rate': 0.5, 'n_estimators': 50}\n",
      "0.911 (+/-0.115) for {'learning_rate': 0.5, 'n_estimators': 300}\n",
      "0.929 (+/-0.135) for {'learning_rate': 0.5, 'n_estimators': 500}\n",
      "0.892 (+/-0.268) for {'learning_rate': 1, 'n_estimators': 50}\n",
      "0.911 (+/-0.282) for {'learning_rate': 1, 'n_estimators': 300}\n",
      "0.947 (+/-0.144) for {'learning_rate': 1, 'n_estimators': 500}\n",
      "0.717 (+/-0.34) for {'learning_rate': 10, 'n_estimators': 50}\n",
      "0.717 (+/-0.34) for {'learning_rate': 10, 'n_estimators': 300}\n",
      "0.698 (+/-0.364) for {'learning_rate': 10, 'n_estimators': 500}\n"
     ]
    }
   ],
   "source": [
    "print_results(cv)\n"
   ]
  },
  {
   "cell_type": "code",
   "execution_count": 117,
   "metadata": {},
   "outputs": [
    {
     "name": "stdout",
     "output_type": "stream",
     "text": [
      "0.92\n",
      "0.9166666666666666\n"
     ]
    }
   ],
   "source": [
    "# I experimented a bit with the learning rate and number of estimators. \n",
    "# If you have a lot of estimators or lower the learning rate a bit the\n",
    "# performance becomes as good as the MultinomialNB model.\n",
    "\n",
    "ada = AdaBoostClassifier(learning_rate=1, n_estimators=500)\n",
    "ada.fit(X_train, y_train)\n",
    "yhatada = (ada.predict(X_test))\n",
    "print(accuracy_score(y_test, yhatada))\n",
    "print(f1_score(y_test, yhatada))"
   ]
  },
  {
   "cell_type": "code",
   "execution_count": 131,
   "metadata": {},
   "outputs": [
    {
     "data": {
      "text/plain": [
       "array([[12,  1],\n",
       "       [ 1, 11]])"
      ]
     },
     "execution_count": 131,
     "metadata": {},
     "output_type": "execute_result"
    }
   ],
   "source": [
    "confusion_matrix(y_test, yhatada)\n"
   ]
  },
  {
   "cell_type": "code",
   "execution_count": 94,
   "metadata": {},
   "outputs": [
    {
     "data": {
      "text/plain": [
       "array([1])"
      ]
     },
     "execution_count": 94,
     "metadata": {},
     "output_type": "execute_result"
    }
   ],
   "source": [
    "ada.predict(nelson_christmas_vectorized)\n"
   ]
  },
  {
   "cell_type": "code",
   "execution_count": 173,
   "metadata": {},
   "outputs": [
    {
     "name": "stderr",
     "output_type": "stream",
     "text": [
      "<ipython-input-173-d8f5c8f9c576>:12: SettingWithCopyWarning: \n",
      "A value is trying to be set on a copy of a slice from a DataFrame.\n",
      "Try using .loc[row_indexer,col_indexer] = value instead\n",
      "\n",
      "See the caveats in the documentation: https://pandas.pydata.org/pandas-docs/stable/user_guide/indexing.html#returning-a-view-versus-a-copy\n",
      "  nelson_monson_talks[\"processed_text\"] = nelson_monson_talks.text.apply(process_text)\n"
     ]
    }
   ],
   "source": [
    "wn = WordNetLemmatizer()\n",
    "\n",
    "\n",
    "def process_text(x):\n",
    "    x = x.lower()\n",
    "    tokens = wordpunct_tokenize(x)\n",
    "    tokens = [tok for tok in tokens if tok.isalnum()]\n",
    "    tokens = [tok for tok in tokens if tok not in sw]\n",
    "    tokens = [wn.lemmatize(tok) for tok in tokens]\n",
    "    return \" \".join(tokens)\n",
    "\n",
    "nelson_monson_talks[\"processed_text\"] = nelson_monson_talks.text.apply(process_text)\n"
   ]
  },
  {
   "cell_type": "code",
   "execution_count": 96,
   "metadata": {},
   "outputs": [],
   "source": [
    "train, test = train_test_split(nelson_monson_talks, test_size=.3, \n",
    "                               stratify=nelson_monson_talks.target, \n",
    "                               random_state=419)\n",
    "\n",
    "y_train = train['target']\n",
    "y_test = test['target']"
   ]
  },
  {
   "cell_type": "code",
   "execution_count": 97,
   "metadata": {},
   "outputs": [
    {
     "name": "stdout",
     "output_type": "stream",
     "text": [
      "5776\n"
     ]
    }
   ],
   "source": [
    "tfidf = TfidfVectorizer(min_df=.005, stop_words=sw)\n",
    "tfidf.fit(train['processed_text'])\n",
    "print(len(tfidf.get_feature_names()))\n",
    "\n",
    "X_train = tfidf.transform(train['processed_text'])\n",
    "X_test = tfidf.transform(test['processed_text'])\n",
    "\n",
    "nb = MultinomialNB()\n",
    "nb.fit(X_train, y_train)\n",
    "yhat = nb.predict(X_test)\n",
    "y_prob = nb.predict_proba(X_test)[:,1]"
   ]
  },
  {
   "cell_type": "code",
   "execution_count": 98,
   "metadata": {},
   "outputs": [
    {
     "name": "stdout",
     "output_type": "stream",
     "text": [
      "0.96\n",
      "0.9565217391304348\n"
     ]
    }
   ],
   "source": [
    "print(accuracy_score(y_test, yhat))\n",
    "print(f1_score(y_test, yhat))"
   ]
  },
  {
   "cell_type": "code",
   "execution_count": 99,
   "metadata": {},
   "outputs": [
    {
     "name": "stdout",
     "output_type": "stream",
     "text": [
      "0.88\n",
      "0.8571428571428571\n"
     ]
    }
   ],
   "source": [
    "rf = RandomForestClassifier(max_depth=50, n_estimators=500, n_jobs=-1)\n",
    "rf.fit(X_train, y_train)\n",
    "yhatrf = (rf.predict(X_test))\n",
    "print(accuracy_score(y_test, yhatrf))\n",
    "print(f1_score(y_test, yhatrf))\n"
   ]
  },
  {
   "cell_type": "code",
   "execution_count": 100,
   "metadata": {},
   "outputs": [
    {
     "name": "stdout",
     "output_type": "stream",
     "text": [
      "0.96\n",
      "0.9565217391304348\n"
     ]
    }
   ],
   "source": [
    "ada = AdaBoostClassifier(learning_rate=.8, n_estimators=9000)\n",
    "ada.fit(X_train, y_train)\n",
    "yhatada = (ada.predict(X_test))\n",
    "print(accuracy_score(y_test, yhatada))\n",
    "print(f1_score(y_test, yhatada))"
   ]
  },
  {
   "cell_type": "code",
   "execution_count": 303,
   "metadata": {},
   "outputs": [],
   "source": [
    "from wordcloud import WordCloud\n",
    "from PIL import Image    # to import the image\n",
    "moroni_mask = np.array(Image.open(\"moroni.png\"))\n",
    "temp_mask = np.array(Image.open(\"temp-logo.png\"))\n",
    "jc_mask = np.array(Image.open(\"jc-logo2.png\"))\n",
    "\n",
    "\n",
    "def process_text_no_join(x):\n",
    "    x = x.lower()\n",
    "    tokens = wordpunct_tokenize(x)\n",
    "    tokens = [tok for tok in tokens if tok.isalnum()]\n",
    "    tokens = [tok for tok in tokens if tok not in sw]\n",
    "    tokens = [wn.lemmatize(tok) for tok in tokens]\n",
    "    return tokens\n",
    "\n",
    "# Create a list of word\n",
    "monson = nelson_monson_talks[nelson_monson_talks.target == 0]\n",
    "nelson = nelson_monson_talks[nelson_monson_talks.target == 1]\n",
    "\n",
    "\n",
    "all_nelson_text = nelson.text.str.cat(sep=' ')\n",
    "all_monson_text = monson.text.str.cat(sep=' ')\n"
   ]
  },
  {
   "cell_type": "code",
   "execution_count": 305,
   "metadata": {},
   "outputs": [
    {
     "data": {
      "image/png": "[encoded data removed]",
      "text/plain": [
       "<Figure size 500x500 with 1 Axes>"
      ]
     },
     "metadata": {},
     "output_type": "display_data"
    },
    {
     "data": {
      "image/png": "[encoded data removed]",
      "text/plain": [
       "<Figure size 500x500 with 1 Axes>"
      ]
     },
     "metadata": {},
     "output_type": "display_data"
    }
   ],
   "source": [
    "# Create the wordcloud object\n",
    "from matplotlib.pyplot import figure\n",
    "bc=\"black\"\n",
    "wordcloud_nelson = WordCloud(mask=jc_mask, width=480, height=900, margin=0, background_color=bc, colormap=\"Wistia_r\").generate(all_nelson_text)\n",
    "wordcloud_monson = WordCloud(mask=jc_mask, width=480, height=480, margin=0, background_color=bc, colormap=\"Wistia_r\").generate(all_monson_text)\n",
    "\n",
    "\n",
    "# Display the generated image:\n",
    "figure(num=1, figsize=(5, 5), dpi=100, facecolor='w', edgecolor='k')\n",
    "plt.imshow(wordcloud_nelson, interpolation='bilinear')\n",
    "plt.axis(\"off\")\n",
    "plt.margins(x=0, y=0)\n",
    "# plt.savefig('nelson_wordcloud.png', bbox_inches='tight', pad_inches=0, dpi=1000)\n",
    "plt.show()\n",
    "\n",
    "figure(num=1, figsize=(5, 5), dpi=100, facecolor='w', edgecolor='k')\n",
    "plt.imshow(wordcloud_monson, interpolation='bilinear')\n",
    "plt.axis(\"off\")\n",
    "plt.margins(x=0, y=0)\n",
    "# plt.savefig('monson_wordcloud.png', bbox_inches='tight', pad_inches=0, dpi=1000)\n",
    "plt.show()\n"
   ]
  },
  {
   "cell_type": "code",
   "execution_count": 214,
   "metadata": {},
   "outputs": [
    {
     "data": {
      "text/html": [
       "<div>\n",
       "<style scoped>\n",
       "    .dataframe tbody tr th:only-of-type {\n",
       "        vertical-align: middle;\n",
       "    }\n",
       "\n",
       "    .dataframe tbody tr th {\n",
       "        vertical-align: top;\n",
       "    }\n",
       "\n",
       "    .dataframe thead th {\n",
       "        text-align: right;\n",
       "    }\n",
       "</style>\n",
       "<table border=\"1\" class=\"dataframe\">\n",
       "  <thead>\n",
       "    <tr style=\"text-align: right;\">\n",
       "      <th></th>\n",
       "      <th>word</th>\n",
       "      <th>count</th>\n",
       "    </tr>\n",
       "  </thead>\n",
       "  <tbody>\n",
       "    <tr>\n",
       "      <th>152</th>\n",
       "      <td>god</td>\n",
       "      <td>371</td>\n",
       "    </tr>\n",
       "    <tr>\n",
       "      <th>92</th>\n",
       "      <td>lord</td>\n",
       "      <td>333</td>\n",
       "    </tr>\n",
       "    <tr>\n",
       "      <th>11</th>\n",
       "      <td>christ</td>\n",
       "      <td>315</td>\n",
       "    </tr>\n",
       "    <tr>\n",
       "      <th>9</th>\n",
       "      <td>church</td>\n",
       "      <td>311</td>\n",
       "    </tr>\n",
       "    <tr>\n",
       "      <th>10</th>\n",
       "      <td>jesus</td>\n",
       "      <td>286</td>\n",
       "    </tr>\n",
       "    <tr>\n",
       "      <th>76</th>\n",
       "      <td>life</td>\n",
       "      <td>239</td>\n",
       "    </tr>\n",
       "    <tr>\n",
       "      <th>94</th>\n",
       "      <td>u</td>\n",
       "      <td>231</td>\n",
       "    </tr>\n",
       "    <tr>\n",
       "      <th>13</th>\n",
       "      <td>day</td>\n",
       "      <td>221</td>\n",
       "    </tr>\n",
       "    <tr>\n",
       "      <th>69</th>\n",
       "      <td>temple</td>\n",
       "      <td>191</td>\n",
       "    </tr>\n",
       "    <tr>\n",
       "      <th>129</th>\n",
       "      <td>power</td>\n",
       "      <td>165</td>\n",
       "    </tr>\n",
       "  </tbody>\n",
       "</table>\n",
       "</div>"
      ],
      "text/plain": [
       "       word  count\n",
       "152     god    371\n",
       "92     lord    333\n",
       "11   christ    315\n",
       "9    church    311\n",
       "10    jesus    286\n",
       "76     life    239\n",
       "94        u    231\n",
       "13      day    221\n",
       "69   temple    191\n",
       "129   power    165"
      ]
     },
     "execution_count": 214,
     "metadata": {},
     "output_type": "execute_result"
    }
   ],
   "source": [
    "c = Counter(process_text_no_join(all_nelson_text)) \n",
    "wc_nelson = pd.DataFrame(c.items(), columns=['word','count'])\n",
    "wc_nelson.sort_values(by='count',ascending=False).head(10)\n",
    "\n"
   ]
  },
  {
   "cell_type": "code",
   "execution_count": 215,
   "metadata": {},
   "outputs": [
    {
     "data": {
      "text/html": [
       "<div>\n",
       "<style scoped>\n",
       "    .dataframe tbody tr th:only-of-type {\n",
       "        vertical-align: middle;\n",
       "    }\n",
       "\n",
       "    .dataframe tbody tr th {\n",
       "        vertical-align: top;\n",
       "    }\n",
       "\n",
       "    .dataframe thead th {\n",
       "        text-align: right;\n",
       "    }\n",
       "</style>\n",
       "<table border=\"1\" class=\"dataframe\">\n",
       "  <thead>\n",
       "    <tr style=\"text-align: right;\">\n",
       "      <th></th>\n",
       "      <th>word</th>\n",
       "      <th>count</th>\n",
       "    </tr>\n",
       "  </thead>\n",
       "  <tbody>\n",
       "    <tr>\n",
       "      <th>96</th>\n",
       "      <td>u</td>\n",
       "      <td>395</td>\n",
       "    </tr>\n",
       "    <tr>\n",
       "      <th>302</th>\n",
       "      <td>may</td>\n",
       "      <td>240</td>\n",
       "    </tr>\n",
       "    <tr>\n",
       "      <th>80</th>\n",
       "      <td>life</td>\n",
       "      <td>233</td>\n",
       "    </tr>\n",
       "    <tr>\n",
       "      <th>1</th>\n",
       "      <td>brother</td>\n",
       "      <td>212</td>\n",
       "    </tr>\n",
       "    <tr>\n",
       "      <th>18</th>\n",
       "      <td>one</td>\n",
       "      <td>200</td>\n",
       "    </tr>\n",
       "    <tr>\n",
       "      <th>10</th>\n",
       "      <td>god</td>\n",
       "      <td>200</td>\n",
       "    </tr>\n",
       "    <tr>\n",
       "      <th>162</th>\n",
       "      <td>temple</td>\n",
       "      <td>194</td>\n",
       "    </tr>\n",
       "    <tr>\n",
       "      <th>196</th>\n",
       "      <td>time</td>\n",
       "      <td>181</td>\n",
       "    </tr>\n",
       "    <tr>\n",
       "      <th>142</th>\n",
       "      <td>lord</td>\n",
       "      <td>180</td>\n",
       "    </tr>\n",
       "    <tr>\n",
       "      <th>65</th>\n",
       "      <td>day</td>\n",
       "      <td>145</td>\n",
       "    </tr>\n",
       "  </tbody>\n",
       "</table>\n",
       "</div>"
      ],
      "text/plain": [
       "        word  count\n",
       "96         u    395\n",
       "302      may    240\n",
       "80      life    233\n",
       "1    brother    212\n",
       "18       one    200\n",
       "10       god    200\n",
       "162   temple    194\n",
       "196     time    181\n",
       "142     lord    180\n",
       "65       day    145"
      ]
     },
     "execution_count": 215,
     "metadata": {},
     "output_type": "execute_result"
    }
   ],
   "source": [
    "c = Counter(process_text_no_join(all_monson_text)) \n",
    "wc_monson = pd.DataFrame(c.items(), columns=['word','count'])\n",
    "wc_monson.sort_values(by='count',ascending=False).head(10)"
   ]
  },
  {
   "cell_type": "code",
   "execution_count": null,
   "metadata": {},
   "outputs": [],
   "source": []
  }
 ],
 "metadata": {
  "kernelspec": {
   "display_name": "Python 3",
   "language": "python",
   "name": "python3"
  },
  "language_info": {
   "codemirror_mode": {
    "name": "ipython",
    "version": 3
   },
   "file_extension": ".py",
   "mimetype": "text/x-python",
   "name": "python",
   "nbconvert_exporter": "python",
   "pygments_lexer": "ipython3",
   "version": "3.8.3"
  }
 },
 "nbformat": 4,
 "nbformat_minor": 4
}
